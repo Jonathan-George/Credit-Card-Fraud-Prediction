{
 "cells": [
  {
   "cell_type": "code",
   "execution_count": 1,
   "id": "1658896b",
   "metadata": {},
   "outputs": [],
   "source": [
    "import seaborn as sn\n",
    "import pandas as pd\n",
    "import numpy as np\n",
    "import matplotlib.pyplot as plt\n",
    "from sklearn.linear_model import LogisticRegression\n",
    "from sklearn.model_selection import train_test_split\n",
    "from sklearn.preprocessing import StandardScaler"
   ]
  },
  {
   "cell_type": "code",
   "execution_count": 2,
   "id": "275718cb",
   "metadata": {},
   "outputs": [],
   "source": [
    "transactions = pd.read_csv(r\"C:\\Users\\JONATHAN GEORGE\\Downloads\\PS_20174392719_1491204439457_log.csv\")"
   ]
  },
  {
   "cell_type": "code",
   "execution_count": 3,
   "id": "105cc96e",
   "metadata": {},
   "outputs": [
    {
     "name": "stdout",
     "output_type": "stream",
     "text": [
      "   step      type    amount     nameOrig  oldbalanceOrg  newbalanceOrig  \\\n",
      "0     1   PAYMENT   9839.64  C1231006815       170136.0       160296.36   \n",
      "1     1   PAYMENT   1864.28  C1666544295        21249.0        19384.72   \n",
      "2     1  TRANSFER    181.00  C1305486145          181.0            0.00   \n",
      "3     1  CASH_OUT    181.00   C840083671          181.0            0.00   \n",
      "4     1   PAYMENT  11668.14  C2048537720        41554.0        29885.86   \n",
      "\n",
      "      nameDest  oldbalanceDest  newbalanceDest  isFraud  isFlaggedFraud  \n",
      "0  M1979787155             0.0             0.0        0               0  \n",
      "1  M2044282225             0.0             0.0        0               0  \n",
      "2   C553264065             0.0             0.0        1               0  \n",
      "3    C38997010         21182.0             0.0        1               0  \n",
      "4  M1230701703             0.0             0.0        0               0  \n",
      "<class 'pandas.core.frame.DataFrame'>\n",
      "RangeIndex: 6362620 entries, 0 to 6362619\n",
      "Data columns (total 11 columns):\n",
      " #   Column          Dtype  \n",
      "---  ------          -----  \n",
      " 0   step            int64  \n",
      " 1   type            object \n",
      " 2   amount          float64\n",
      " 3   nameOrig        object \n",
      " 4   oldbalanceOrg   float64\n",
      " 5   newbalanceOrig  float64\n",
      " 6   nameDest        object \n",
      " 7   oldbalanceDest  float64\n",
      " 8   newbalanceDest  float64\n",
      " 9   isFraud         int64  \n",
      " 10  isFlaggedFraud  int64  \n",
      "dtypes: float64(5), int64(3), object(3)\n",
      "memory usage: 534.0+ MB\n",
      "None\n"
     ]
    }
   ],
   "source": [
    "print(transactions.head())\n",
    "print(transactions.info())"
   ]
  },
  {
   "cell_type": "code",
   "execution_count": 4,
   "id": "e1592636",
   "metadata": {},
   "outputs": [
    {
     "name": "stdout",
     "output_type": "stream",
     "text": [
      "Number of unique attributes in 'isFraud': 2\n"
     ]
    }
   ],
   "source": [
    "# Number of unique values in 'your_column'\n",
    "unique_values_count = transactions['isFraud'].nunique()\n",
    "\n",
    "# Print the result\n",
    "print(f\"Number of unique attributes in 'isFraud': {unique_values_count}\")\n"
   ]
  },
  {
   "cell_type": "code",
   "execution_count": 5,
   "id": "67a4335a",
   "metadata": {},
   "outputs": [
    {
     "name": "stdout",
     "output_type": "stream",
     "text": [
      "Count of each unique value in 'isFraud':\n",
      "isFraud\n",
      "0    6354407\n",
      "1       8213\n",
      "Name: count, dtype: int64\n"
     ]
    }
   ],
   "source": [
    "# Count of each unique value in 'your_column'\n",
    "value_counts = transactions['isFraud'].value_counts()\n",
    "\n",
    "# Print the result\n",
    "print(\"Count of each unique value in 'isFraud':\")\n",
    "print(value_counts)"
   ]
  },
  {
   "cell_type": "code",
   "execution_count": 6,
   "id": "02f201e3",
   "metadata": {},
   "outputs": [],
   "source": [
    "# we have 8,213 fraudulent transactions in this data"
   ]
  },
  {
   "cell_type": "code",
   "execution_count": 7,
   "id": "c4c35cf9",
   "metadata": {},
   "outputs": [
    {
     "data": {
      "text/plain": [
       "count    6.362620e+06\n",
       "mean     1.798619e+05\n",
       "std      6.038582e+05\n",
       "min      0.000000e+00\n",
       "25%      1.338957e+04\n",
       "50%      7.487194e+04\n",
       "75%      2.087215e+05\n",
       "max      9.244552e+07\n",
       "Name: amount, dtype: float64"
      ]
     },
     "execution_count": 7,
     "metadata": {},
     "output_type": "execute_result"
    }
   ],
   "source": [
    "transactions['amount'].describe()"
   ]
  },
  {
   "cell_type": "code",
   "execution_count": 8,
   "id": "1d8706de",
   "metadata": {},
   "outputs": [
    {
     "name": "stdout",
     "output_type": "stream",
     "text": [
      "         step      type      amount     nameOrig  oldbalanceOrg  \\\n",
      "0           1   PAYMENT     9839.64  C1231006815      170136.00   \n",
      "1           1   PAYMENT     1864.28  C1666544295       21249.00   \n",
      "2           1  TRANSFER      181.00  C1305486145         181.00   \n",
      "3           1  CASH_OUT      181.00   C840083671         181.00   \n",
      "4           1   PAYMENT    11668.14  C2048537720       41554.00   \n",
      "...       ...       ...         ...          ...            ...   \n",
      "6362615   743  CASH_OUT   339682.13   C786484425      339682.13   \n",
      "6362616   743  TRANSFER  6311409.28  C1529008245     6311409.28   \n",
      "6362617   743  CASH_OUT  6311409.28  C1162922333     6311409.28   \n",
      "6362618   743  TRANSFER   850002.52  C1685995037      850002.52   \n",
      "6362619   743  CASH_OUT   850002.52  C1280323807      850002.52   \n",
      "\n",
      "         newbalanceOrig     nameDest  oldbalanceDest  newbalanceDest  isFraud  \\\n",
      "0             160296.36  M1979787155            0.00            0.00        0   \n",
      "1              19384.72  M2044282225            0.00            0.00        0   \n",
      "2                  0.00   C553264065            0.00            0.00        1   \n",
      "3                  0.00    C38997010        21182.00            0.00        1   \n",
      "4              29885.86  M1230701703            0.00            0.00        0   \n",
      "...                 ...          ...             ...             ...      ...   \n",
      "6362615            0.00   C776919290            0.00       339682.13        1   \n",
      "6362616            0.00  C1881841831            0.00            0.00        1   \n",
      "6362617            0.00  C1365125890        68488.84      6379898.11        1   \n",
      "6362618            0.00  C2080388513            0.00            0.00        1   \n",
      "6362619            0.00   C873221189      6510099.11      7360101.63        1   \n",
      "\n",
      "         isFlaggedFraud  isPayment  \n",
      "0                     0          1  \n",
      "1                     0          1  \n",
      "2                     0          0  \n",
      "3                     0          0  \n",
      "4                     0          1  \n",
      "...                 ...        ...  \n",
      "6362615               0          0  \n",
      "6362616               0          0  \n",
      "6362617               0          0  \n",
      "6362618               0          0  \n",
      "6362619               0          0  \n",
      "\n",
      "[6362620 rows x 12 columns]\n"
     ]
    }
   ],
   "source": [
    "# Create the 'isPayment' column using apply with a lambda function\n",
    "transactions['isPayment'] = transactions['type'].apply(lambda x: 1 if x in ['PAYMENT', 'DEBIT'] else 0)\n",
    "\n",
    "# Display the DataFrame\n",
    "print(transactions)"
   ]
  },
  {
   "cell_type": "code",
   "execution_count": 9,
   "id": "7ec533d3",
   "metadata": {},
   "outputs": [
    {
     "name": "stdout",
     "output_type": "stream",
     "text": [
      "         step      type      amount     nameOrig  oldbalanceOrg  \\\n",
      "0           1   PAYMENT     9839.64  C1231006815      170136.00   \n",
      "1           1   PAYMENT     1864.28  C1666544295       21249.00   \n",
      "2           1  TRANSFER      181.00  C1305486145         181.00   \n",
      "3           1  CASH_OUT      181.00   C840083671         181.00   \n",
      "4           1   PAYMENT    11668.14  C2048537720       41554.00   \n",
      "...       ...       ...         ...          ...            ...   \n",
      "6362615   743  CASH_OUT   339682.13   C786484425      339682.13   \n",
      "6362616   743  TRANSFER  6311409.28  C1529008245     6311409.28   \n",
      "6362617   743  CASH_OUT  6311409.28  C1162922333     6311409.28   \n",
      "6362618   743  TRANSFER   850002.52  C1685995037      850002.52   \n",
      "6362619   743  CASH_OUT   850002.52  C1280323807      850002.52   \n",
      "\n",
      "         newbalanceOrig     nameDest  oldbalanceDest  newbalanceDest  isFraud  \\\n",
      "0             160296.36  M1979787155            0.00            0.00        0   \n",
      "1              19384.72  M2044282225            0.00            0.00        0   \n",
      "2                  0.00   C553264065            0.00            0.00        1   \n",
      "3                  0.00    C38997010        21182.00            0.00        1   \n",
      "4              29885.86  M1230701703            0.00            0.00        0   \n",
      "...                 ...          ...             ...             ...      ...   \n",
      "6362615            0.00   C776919290            0.00       339682.13        1   \n",
      "6362616            0.00  C1881841831            0.00            0.00        1   \n",
      "6362617            0.00  C1365125890        68488.84      6379898.11        1   \n",
      "6362618            0.00  C2080388513            0.00            0.00        1   \n",
      "6362619            0.00   C873221189      6510099.11      7360101.63        1   \n",
      "\n",
      "         isFlaggedFraud  isPayment  isMovement  \n",
      "0                     0          1           0  \n",
      "1                     0          1           0  \n",
      "2                     0          0           1  \n",
      "3                     0          0           1  \n",
      "4                     0          1           0  \n",
      "...                 ...        ...         ...  \n",
      "6362615               0          0           1  \n",
      "6362616               0          0           1  \n",
      "6362617               0          0           1  \n",
      "6362618               0          0           1  \n",
      "6362619               0          0           1  \n",
      "\n",
      "[6362620 rows x 13 columns]\n"
     ]
    }
   ],
   "source": [
    "# Create the 'isMovement' column using apply with a lambda function\n",
    "transactions['isMovement'] = transactions['type'].apply(lambda x: 1 if x in ['CASH_OUT', 'TRANSFER'] else 0)\n",
    "\n",
    "# Display the DataFrame\n",
    "print(transactions)"
   ]
  },
  {
   "cell_type": "code",
   "execution_count": 10,
   "id": "f0688eab",
   "metadata": {},
   "outputs": [
    {
     "name": "stdout",
     "output_type": "stream",
     "text": [
      "         step      type      amount     nameOrig  oldbalanceOrg  \\\n",
      "0           1   PAYMENT     9839.64  C1231006815      170136.00   \n",
      "1           1   PAYMENT     1864.28  C1666544295       21249.00   \n",
      "2           1  TRANSFER      181.00  C1305486145         181.00   \n",
      "3           1  CASH_OUT      181.00   C840083671         181.00   \n",
      "4           1   PAYMENT    11668.14  C2048537720       41554.00   \n",
      "...       ...       ...         ...          ...            ...   \n",
      "6362615   743  CASH_OUT   339682.13   C786484425      339682.13   \n",
      "6362616   743  TRANSFER  6311409.28  C1529008245     6311409.28   \n",
      "6362617   743  CASH_OUT  6311409.28  C1162922333     6311409.28   \n",
      "6362618   743  TRANSFER   850002.52  C1685995037      850002.52   \n",
      "6362619   743  CASH_OUT   850002.52  C1280323807      850002.52   \n",
      "\n",
      "         newbalanceOrig     nameDest  oldbalanceDest  newbalanceDest  isFraud  \\\n",
      "0             160296.36  M1979787155            0.00            0.00        0   \n",
      "1              19384.72  M2044282225            0.00            0.00        0   \n",
      "2                  0.00   C553264065            0.00            0.00        1   \n",
      "3                  0.00    C38997010        21182.00            0.00        1   \n",
      "4              29885.86  M1230701703            0.00            0.00        0   \n",
      "...                 ...          ...             ...             ...      ...   \n",
      "6362615            0.00   C776919290            0.00       339682.13        1   \n",
      "6362616            0.00  C1881841831            0.00            0.00        1   \n",
      "6362617            0.00  C1365125890        68488.84      6379898.11        1   \n",
      "6362618            0.00  C2080388513            0.00            0.00        1   \n",
      "6362619            0.00   C873221189      6510099.11      7360101.63        1   \n",
      "\n",
      "         isFlaggedFraud  isPayment  isMovement  accountDiff  \n",
      "0                     0          1           0    170136.00  \n",
      "1                     0          1           0     21249.00  \n",
      "2                     0          0           1       181.00  \n",
      "3                     0          0           1     21001.00  \n",
      "4                     0          1           0     41554.00  \n",
      "...                 ...        ...         ...          ...  \n",
      "6362615               0          0           1    339682.13  \n",
      "6362616               0          0           1   6311409.28  \n",
      "6362617               0          0           1   6242920.44  \n",
      "6362618               0          0           1    850002.52  \n",
      "6362619               0          0           1   5660096.59  \n",
      "\n",
      "[6362620 rows x 14 columns]\n"
     ]
    }
   ],
   "source": [
    "# Create the 'accountDiff' column with the absolute difference\n",
    "transactions['accountDiff'] = (transactions['oldbalanceOrg'] - transactions['oldbalanceDest']).abs()\n",
    "\n",
    "# Display the DataFrame\n",
    "print(transactions)"
   ]
  },
  {
   "cell_type": "code",
   "execution_count": 11,
   "id": "4e1a00c4",
   "metadata": {},
   "outputs": [],
   "source": [
    "# Create the features array with the specified columns\n",
    "features = transactions[['amount', 'isPayment', 'isMovement', 'accountDiff']].values"
   ]
  },
  {
   "cell_type": "code",
   "execution_count": 12,
   "id": "2ca45e2e",
   "metadata": {},
   "outputs": [],
   "source": [
    "# Create the label variable with the 'isFraud' column\n",
    "label = transactions['isFraud'].values\n"
   ]
  },
  {
   "cell_type": "code",
   "execution_count": 13,
   "id": "fb68edd9",
   "metadata": {},
   "outputs": [],
   "source": [
    "# Split the data into training and test sets\n",
    "X_train, X_test, y_train, y_test = train_test_split(features, label, test_size=0.3, random_state=42)"
   ]
  },
  {
   "cell_type": "code",
   "execution_count": 14,
   "id": "df4fc55a",
   "metadata": {},
   "outputs": [],
   "source": [
    "# Create a StandardScaler object\n",
    "scaler = StandardScaler()\n",
    "\n",
    "# Fit the scaler on the training features and transform them\n",
    "X_train_scaled = scaler.fit_transform(X_train)\n",
    "\n",
    "# Transform the test features\n",
    "X_test_scaled = scaler.transform(X_test)"
   ]
  },
  {
   "cell_type": "code",
   "execution_count": 15,
   "id": "865efb31",
   "metadata": {},
   "outputs": [],
   "source": [
    "# Create a LogisticRegression model\n",
    "model = LogisticRegression(random_state=42)"
   ]
  },
  {
   "cell_type": "code",
   "execution_count": 16,
   "id": "c6219341",
   "metadata": {},
   "outputs": [
    {
     "data": {
      "text/html": [
       "<style>#sk-container-id-1 {color: black;}#sk-container-id-1 pre{padding: 0;}#sk-container-id-1 div.sk-toggleable {background-color: white;}#sk-container-id-1 label.sk-toggleable__label {cursor: pointer;display: block;width: 100%;margin-bottom: 0;padding: 0.3em;box-sizing: border-box;text-align: center;}#sk-container-id-1 label.sk-toggleable__label-arrow:before {content: \"▸\";float: left;margin-right: 0.25em;color: #696969;}#sk-container-id-1 label.sk-toggleable__label-arrow:hover:before {color: black;}#sk-container-id-1 div.sk-estimator:hover label.sk-toggleable__label-arrow:before {color: black;}#sk-container-id-1 div.sk-toggleable__content {max-height: 0;max-width: 0;overflow: hidden;text-align: left;background-color: #f0f8ff;}#sk-container-id-1 div.sk-toggleable__content pre {margin: 0.2em;color: black;border-radius: 0.25em;background-color: #f0f8ff;}#sk-container-id-1 input.sk-toggleable__control:checked~div.sk-toggleable__content {max-height: 200px;max-width: 100%;overflow: auto;}#sk-container-id-1 input.sk-toggleable__control:checked~label.sk-toggleable__label-arrow:before {content: \"▾\";}#sk-container-id-1 div.sk-estimator input.sk-toggleable__control:checked~label.sk-toggleable__label {background-color: #d4ebff;}#sk-container-id-1 div.sk-label input.sk-toggleable__control:checked~label.sk-toggleable__label {background-color: #d4ebff;}#sk-container-id-1 input.sk-hidden--visually {border: 0;clip: rect(1px 1px 1px 1px);clip: rect(1px, 1px, 1px, 1px);height: 1px;margin: -1px;overflow: hidden;padding: 0;position: absolute;width: 1px;}#sk-container-id-1 div.sk-estimator {font-family: monospace;background-color: #f0f8ff;border: 1px dotted black;border-radius: 0.25em;box-sizing: border-box;margin-bottom: 0.5em;}#sk-container-id-1 div.sk-estimator:hover {background-color: #d4ebff;}#sk-container-id-1 div.sk-parallel-item::after {content: \"\";width: 100%;border-bottom: 1px solid gray;flex-grow: 1;}#sk-container-id-1 div.sk-label:hover label.sk-toggleable__label {background-color: #d4ebff;}#sk-container-id-1 div.sk-serial::before {content: \"\";position: absolute;border-left: 1px solid gray;box-sizing: border-box;top: 0;bottom: 0;left: 50%;z-index: 0;}#sk-container-id-1 div.sk-serial {display: flex;flex-direction: column;align-items: center;background-color: white;padding-right: 0.2em;padding-left: 0.2em;position: relative;}#sk-container-id-1 div.sk-item {position: relative;z-index: 1;}#sk-container-id-1 div.sk-parallel {display: flex;align-items: stretch;justify-content: center;background-color: white;position: relative;}#sk-container-id-1 div.sk-item::before, #sk-container-id-1 div.sk-parallel-item::before {content: \"\";position: absolute;border-left: 1px solid gray;box-sizing: border-box;top: 0;bottom: 0;left: 50%;z-index: -1;}#sk-container-id-1 div.sk-parallel-item {display: flex;flex-direction: column;z-index: 1;position: relative;background-color: white;}#sk-container-id-1 div.sk-parallel-item:first-child::after {align-self: flex-end;width: 50%;}#sk-container-id-1 div.sk-parallel-item:last-child::after {align-self: flex-start;width: 50%;}#sk-container-id-1 div.sk-parallel-item:only-child::after {width: 0;}#sk-container-id-1 div.sk-dashed-wrapped {border: 1px dashed gray;margin: 0 0.4em 0.5em 0.4em;box-sizing: border-box;padding-bottom: 0.4em;background-color: white;}#sk-container-id-1 div.sk-label label {font-family: monospace;font-weight: bold;display: inline-block;line-height: 1.2em;}#sk-container-id-1 div.sk-label-container {text-align: center;}#sk-container-id-1 div.sk-container {/* jupyter's `normalize.less` sets `[hidden] { display: none; }` but bootstrap.min.css set `[hidden] { display: none !important; }` so we also need the `!important` here to be able to override the default hidden behavior on the sphinx rendered scikit-learn.org. See: https://github.com/scikit-learn/scikit-learn/issues/21755 */display: inline-block !important;position: relative;}#sk-container-id-1 div.sk-text-repr-fallback {display: none;}</style><div id=\"sk-container-id-1\" class=\"sk-top-container\"><div class=\"sk-text-repr-fallback\"><pre>LogisticRegression(random_state=42)</pre><b>In a Jupyter environment, please rerun this cell to show the HTML representation or trust the notebook. <br />On GitHub, the HTML representation is unable to render, please try loading this page with nbviewer.org.</b></div><div class=\"sk-container\" hidden><div class=\"sk-item\"><div class=\"sk-estimator sk-toggleable\"><input class=\"sk-toggleable__control sk-hidden--visually\" id=\"sk-estimator-id-1\" type=\"checkbox\" checked><label for=\"sk-estimator-id-1\" class=\"sk-toggleable__label sk-toggleable__label-arrow\">LogisticRegression</label><div class=\"sk-toggleable__content\"><pre>LogisticRegression(random_state=42)</pre></div></div></div></div></div>"
      ],
      "text/plain": [
       "LogisticRegression(random_state=42)"
      ]
     },
     "execution_count": 16,
     "metadata": {},
     "output_type": "execute_result"
    }
   ],
   "source": [
    "# Fit the model on the training data\n",
    "model.fit(X_train_scaled, y_train)"
   ]
  },
  {
   "cell_type": "code",
   "execution_count": 17,
   "id": "bb95113b",
   "metadata": {},
   "outputs": [
    {
     "name": "stdout",
     "output_type": "stream",
     "text": [
      "Coefficients of the logistic regression model:\n",
      "[[ 0.22175467 -1.17122122  3.58888713 -0.66133785]]\n"
     ]
    }
   ],
   "source": [
    "# Print the coefficients of the model\n",
    "print(\"Coefficients of the logistic regression model:\")\n",
    "print(model.coef_)"
   ]
  },
  {
   "cell_type": "code",
   "execution_count": 18,
   "id": "92d92bfc",
   "metadata": {},
   "outputs": [
    {
     "name": "stdout",
     "output_type": "stream",
     "text": [
      "Intercept of the logistic regression model:\n",
      "[-10.91244106]\n"
     ]
    }
   ],
   "source": [
    "# Print the intercept of the model\n",
    "print(\"Intercept of the logistic regression model:\")\n",
    "print(model.intercept_)"
   ]
  },
  {
   "cell_type": "code",
   "execution_count": 19,
   "id": "5a79d40d",
   "metadata": {},
   "outputs": [],
   "source": [
    "# Predict the labels for the test set\n",
    "y_pred = model.predict(X_test_scaled)"
   ]
  },
  {
   "cell_type": "code",
   "execution_count": 20,
   "id": "f951e643",
   "metadata": {},
   "outputs": [
    {
     "name": "stdout",
     "output_type": "stream",
     "text": [
      "Predictions on the test set:\n",
      "[0 0 0 ... 0 0 0]\n"
     ]
    }
   ],
   "source": [
    "# Display the predictions\n",
    "print(\"Predictions on the test set:\")\n",
    "print(y_pred)"
   ]
  },
  {
   "cell_type": "code",
   "execution_count": 21,
   "id": "af788763",
   "metadata": {},
   "outputs": [],
   "source": [
    "# Evaluate the model on the training data\n",
    "training_score = model.score(X_train_scaled, y_train)"
   ]
  },
  {
   "cell_type": "code",
   "execution_count": 22,
   "id": "5731fa5c",
   "metadata": {},
   "outputs": [
    {
     "name": "stdout",
     "output_type": "stream",
     "text": [
      "Training accuracy score of the logistic regression model:\n",
      "0.9986829325026483\n"
     ]
    }
   ],
   "source": [
    "# Print the training score\n",
    "print(\"Training accuracy score of the logistic regression model:\")\n",
    "print(training_score)"
   ]
  },
  {
   "cell_type": "code",
   "execution_count": 23,
   "id": "173fef7c",
   "metadata": {},
   "outputs": [],
   "source": [
    "# Evaluate the model on the test data\n",
    "test_score = model.score(X_test_scaled, y_test)"
   ]
  },
  {
   "cell_type": "code",
   "execution_count": 24,
   "id": "1afbf44e",
   "metadata": {},
   "outputs": [
    {
     "name": "stdout",
     "output_type": "stream",
     "text": [
      "Test accuracy score of the logistic regression model:\n",
      "0.9987017926577416\n"
     ]
    }
   ],
   "source": [
    "# Print the test score\n",
    "print(\"Test accuracy score of the logistic regression model:\")\n",
    "print(test_score)"
   ]
  },
  {
   "cell_type": "code",
   "execution_count": 25,
   "id": "6fc5c36a",
   "metadata": {},
   "outputs": [],
   "source": [
    "# Get the feature names\n",
    "feature_names = ['amount', 'isPayment', 'isMovement', 'accountDiff']"
   ]
  },
  {
   "cell_type": "code",
   "execution_count": 26,
   "id": "8d029021",
   "metadata": {},
   "outputs": [],
   "source": [
    "# Create a DataFrame to display the coefficients\n",
    "coefficients_df = pd.DataFrame({'Feature': feature_names, 'Coefficient': model.coef_[0]})"
   ]
  },
  {
   "cell_type": "code",
   "execution_count": 27,
   "id": "662daff5",
   "metadata": {},
   "outputs": [
    {
     "name": "stdout",
     "output_type": "stream",
     "text": [
      "Coefficients for the logistic regression model:\n",
      "       Feature  Coefficient\n",
      "0       amount     0.221755\n",
      "1    isPayment    -1.171221\n",
      "2   isMovement     3.588887\n",
      "3  accountDiff    -0.661338\n"
     ]
    }
   ],
   "source": [
    "# Print the coefficients DataFrame\n",
    "print(\"Coefficients for the logistic regression model:\")\n",
    "print(coefficients_df)"
   ]
  },
  {
   "cell_type": "code",
   "execution_count": 28,
   "id": "edcea6d2",
   "metadata": {},
   "outputs": [],
   "source": [
    "# the most important feature was isMovement"
   ]
  },
  {
   "cell_type": "code",
   "execution_count": 29,
   "id": "25d4034f",
   "metadata": {},
   "outputs": [],
   "source": [
    "# Given transaction arrays\n",
    "transaction1 = np.array([123456.78, 0.0, 1.0, 54670.1])\n",
    "transaction2 = np.array([98765.43, 1.0, 0.0, 8524.75])\n",
    "transaction3 = np.array([543678.31, 1.0, 0.0, 510025.5])\n",
    "your_transaction = np.array([190656, 1.0, 0.0, 21116])\n",
    "\n",
    "# Combine the transaction arrays into a single numpy array\n",
    "sample_transactions = np.vstack([transaction1, transaction2, transaction3, your_transaction])"
   ]
  },
  {
   "cell_type": "code",
   "execution_count": 30,
   "id": "d0cd6c55",
   "metadata": {},
   "outputs": [
    {
     "name": "stdout",
     "output_type": "stream",
     "text": [
      "Combined sample transactions:\n",
      "[[1.2345678e+05 0.0000000e+00 1.0000000e+00 5.4670100e+04]\n",
      " [9.8765430e+04 1.0000000e+00 0.0000000e+00 8.5247500e+03]\n",
      " [5.4367831e+05 1.0000000e+00 0.0000000e+00 5.1002550e+05]\n",
      " [1.9065600e+05 1.0000000e+00 0.0000000e+00 2.1116000e+04]]\n"
     ]
    }
   ],
   "source": [
    "# Display the combined array\n",
    "print(\"Combined sample transactions:\")\n",
    "print(sample_transactions)"
   ]
  },
  {
   "cell_type": "code",
   "execution_count": 31,
   "id": "fd94a8bf",
   "metadata": {},
   "outputs": [],
   "source": [
    "# Apply the StandardScaler object's transform method to sample_transactions\n",
    "sample_transactions = scaler.transform(sample_transactions)"
   ]
  },
  {
   "cell_type": "code",
   "execution_count": 32,
   "id": "362b2617",
   "metadata": {},
   "outputs": [
    {
     "name": "stdout",
     "output_type": "stream",
     "text": [
      "Transformed sample transactions:\n",
      "[[-0.09356    -0.7250953   1.13831764 -0.37416411]\n",
      " [-0.13455025  1.37912905 -0.87848942 -0.38561603]\n",
      " [ 0.60405216  1.37912905 -0.87848942 -0.26115821]\n",
      " [ 0.01799781  1.37912905 -0.87848942 -0.38249125]]\n"
     ]
    }
   ],
   "source": [
    "# Display the transformed sample_transactions\n",
    "print(\"Transformed sample transactions:\")\n",
    "print(sample_transactions)"
   ]
  },
  {
   "cell_type": "code",
   "execution_count": 33,
   "id": "eff4b0d2",
   "metadata": {},
   "outputs": [],
   "source": [
    "# Use the model's predict method on sample_transactions\n",
    "fraudulent_transactions = model.predict(sample_transactions)"
   ]
  },
  {
   "cell_type": "code",
   "execution_count": 34,
   "id": "ffb010a5",
   "metadata": {},
   "outputs": [
    {
     "name": "stdout",
     "output_type": "stream",
     "text": [
      "Predicted fraudulent transactions:\n",
      "[0 0 0 0]\n"
     ]
    }
   ],
   "source": [
    "# Print the result\n",
    "print(\"Predicted fraudulent transactions:\")\n",
    "print(fraudulent_transactions)"
   ]
  },
  {
   "cell_type": "code",
   "execution_count": 35,
   "id": "bc90c107",
   "metadata": {},
   "outputs": [],
   "source": [
    "# Use the model's predict_proba method on sample_transactions\n",
    "transaction_probabilities = model.predict_proba(sample_transactions)"
   ]
  },
  {
   "cell_type": "code",
   "execution_count": 36,
   "id": "74e9ab71",
   "metadata": {},
   "outputs": [
    {
     "name": "stdout",
     "output_type": "stream",
     "text": [
      "Probabilities for each transaction:\n",
      "[[9.96831107e-01 3.16889315e-03]\n",
      " [9.99999806e-01 1.94016916e-07]\n",
      " [9.99999790e-01 2.10487274e-07]\n",
      " [9.99999800e-01 2.00278131e-07]]\n"
     ]
    }
   ],
   "source": [
    "# Print the result\n",
    "print(\"Probabilities for each transaction:\")\n",
    "print(transaction_probabilities)"
   ]
  },
  {
   "cell_type": "code",
   "execution_count": null,
   "id": "4f6261b9",
   "metadata": {},
   "outputs": [],
   "source": []
  },
  {
   "cell_type": "code",
   "execution_count": null,
   "id": "36b8926c",
   "metadata": {},
   "outputs": [],
   "source": []
  },
  {
   "cell_type": "code",
   "execution_count": null,
   "id": "2ff1122f",
   "metadata": {},
   "outputs": [],
   "source": []
  },
  {
   "cell_type": "code",
   "execution_count": null,
   "id": "452c95e9",
   "metadata": {},
   "outputs": [],
   "source": []
  },
  {
   "cell_type": "code",
   "execution_count": null,
   "id": "851384ca",
   "metadata": {},
   "outputs": [],
   "source": []
  },
  {
   "cell_type": "code",
   "execution_count": null,
   "id": "0dac19cd",
   "metadata": {},
   "outputs": [],
   "source": []
  }
 ],
 "metadata": {
  "kernelspec": {
   "display_name": "Python 3 (ipykernel)",
   "language": "python",
   "name": "python3"
  },
  "language_info": {
   "codemirror_mode": {
    "name": "ipython",
    "version": 3
   },
   "file_extension": ".py",
   "mimetype": "text/x-python",
   "name": "python",
   "nbconvert_exporter": "python",
   "pygments_lexer": "ipython3",
   "version": "3.11.5"
  }
 },
 "nbformat": 4,
 "nbformat_minor": 5
}
